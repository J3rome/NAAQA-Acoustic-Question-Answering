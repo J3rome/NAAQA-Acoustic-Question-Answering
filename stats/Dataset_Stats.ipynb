{
 "cells": [
  {
   "cell_type": "code",
   "execution_count": null,
   "metadata": {},
   "outputs": [],
   "source": [
    "# Magic functions -- Run Once\n",
    "%load_ext autoreload\n",
    "%autoreload 2\n",
    "%matplotlib notebook\n",
    "\n",
    "from IPython.core.display import display, HTML, Markdown\n",
    "html_str = \"<style>.container { width:99% !important; }\\n\"\n",
    "html_str += \"div.cell.selected { border-left-width: 1px !important; }\\n\"\n",
    "html_str += \"div.output_scroll { resize: vertical !important }</style>\"\n",
    "display(HTML(html_str))\n",
    "\n",
    "# Move up one folder to reach the repo root\n",
    "%cd .."
   ]
  },
  {
   "cell_type": "code",
   "execution_count": null,
   "metadata": {},
   "outputs": [],
   "source": [
    "from data_interfaces.CLEAR_dataset import CLEAR_dataset\n",
    "import data_interfaces.transforms as transforms\n",
    "from torchvision.transforms import Compose\n",
    "from stats import helper\n",
    "\n",
    "data_root_path = \"data\"\n",
    "data_version_name = \"v3_fixed_1k_10_inst_1024_win_50_overlap\"\n",
    "clear_mean = [0.4258704782, 0.7333328128, 0.6625311375]\n",
    "clear_std = [0.3685931265, 0.1786273718, 0.2194774598]\n",
    "\n",
    "data_path = f\"{data_root_path}/{data_version_name}\"\n",
    "dict_file_path = f\"{data_path}/questions/dict.json\"\n",
    "input_config = {'type': 'raw'}\n",
    "\n",
    "transforms_to_apply = Compose([\n",
    "    transforms.ResizeImgBasedOnWidth(224),\n",
    "    transforms.ToTensor(), \n",
    "    transforms.ImgBetweenZeroOne(),\n",
    "    transforms.NormalizeSample(mean=clear_mean, std=clear_std, inplace=True)\n",
    "    \n",
    "])\n",
    "\n",
    "datasets = {\n",
    "    'train': CLEAR_dataset(data_root_path, data_version_name, input_config, 'train', \n",
    "                           dict_file_path=dict_file_path, transforms=transforms_to_apply)\n",
    "}\n",
    "\n",
    "#answer_to_family_map = helper.get_answer_to_family_map(f'{data_path}/attributes.json', to_lowercase=True, reduced_text=False)\n",
    "\n",
    "# Need access to dataset object to add those transforms\n",
    "for set_type, dataset in datasets.items():\n",
    "    max_dims = dataset.get_max_width_image_dims()\n",
    "    dataset.add_transform(transforms.PadTensor(max_dims))\n",
    "    \n",
    "    max_dim_value = max(max_dims)\n",
    "    dataset.add_transform(transforms.ResizeTensor((max_dim_value, max_dim_value)))\n",
    "    \n",
    "\n"
   ]
  },
  {
   "cell_type": "markdown",
   "metadata": {},
   "source": [
    "## Scenes Analysis"
   ]
  },
  {
   "cell_type": "code",
   "execution_count": null,
   "metadata": {
    "scrolled": true
   },
   "outputs": [],
   "source": [
    "# Scene Position Analysis per attribute\n",
    "attributes = ['instrument', 'loudness', 'note', 'brightness', 'id']\n",
    "\n",
    "for set_type, dataset in datasets.items():\n",
    "    display(Markdown(f\"## [{set_type.capitalize()}] Scene Position Analysis\"))\n",
    "    for attribute in attributes:\n",
    "        obj_per_position = helper.scene_object_per_position(list(dataset.scenes.values()), attribute=attribute)\n",
    "        helper.plot_attribute_per_position_matrix(obj_per_position, attribute)"
   ]
  },
  {
   "cell_type": "code",
   "execution_count": null,
   "metadata": {
    "scrolled": true
   },
   "outputs": [],
   "source": [
    "# Scene distribution per attribute\n",
    "\n",
    "for set_type, dataset in datasets.items():\n",
    "    display(Markdown(f\"## [{set_type.capitalize()}] Scene distribution Analysis\"))\n",
    "    for attribute in attributes:\n",
    "        helper.plot_scene_distribution_per_attribute(list(dataset.scenes.values()), attribute, norm_hist=False)"
   ]
  },
  {
   "cell_type": "markdown",
   "metadata": {},
   "source": [
    "## Questions Analysis"
   ]
  },
  {
   "cell_type": "code",
   "execution_count": null,
   "metadata": {},
   "outputs": [],
   "source": []
  }
 ],
 "metadata": {
  "kernelspec": {
   "display_name": "film-aqa-torch-1.3",
   "language": "python",
   "name": "film-aqa-torch-1.3"
  },
  "language_info": {
   "codemirror_mode": {
    "name": "ipython",
    "version": 3
   },
   "file_extension": ".py",
   "mimetype": "text/x-python",
   "name": "python",
   "nbconvert_exporter": "python",
   "pygments_lexer": "ipython3",
   "version": "3.6.9"
  }
 },
 "nbformat": 4,
 "nbformat_minor": 2
}
