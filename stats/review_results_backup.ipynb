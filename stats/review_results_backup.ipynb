{
 "cells": [
  {
   "cell_type": "code",
   "execution_count": null,
   "metadata": {},
   "outputs": [],
   "source": [
    "# Magic functions -- Run Once\n",
    "%load_ext autoreload\n",
    "%autoreload 2\n",
    "%matplotlib notebook\n",
    "\n",
    "import os\n",
    "if os.getcwd().split('/')[-1] != \"film-aqa\":\n",
    "    # Move up one folder to reach the repo root\n",
    "    %cd ..\n",
    "\n",
    "from utils.notebook.generic import full_width_notebook\n",
    "\n",
    "full_width_notebook()"
   ]
  },
  {
   "cell_type": "code",
   "execution_count": null,
   "metadata": {
    "scrolled": true
   },
   "outputs": [],
   "source": [
    "# Paths, Imports & Configs\n",
    "import re\n",
    "import matplotlib.pyplot as plt\n",
    "import pandas as pd\n",
    "import numpy as np\n",
    "from copy import deepcopy\n",
    "\n",
    "from utils.notebook.experiment_explorer import get_experiments, get_format_dicts\n",
    "from utils.notebook.pandas import color_by_multi_attribute\n",
    "from utils.notebook.pandas import sub_cols_with_cond_and_create_new_col, grouped_scatter, groupby_mean, convert_cols_to_int\n",
    "from utils.notebook.result_analysis import show_table\n",
    "\n",
    "root_data_path = \"data\"\n",
    "root_output_path = \"output_synced/training\"\n",
    "\n",
    "# Retrieve all experiments infos\n",
    "experiments = get_experiments(root_output_path, min_date=\"2020-09-15_00h00\", question_type_analysis=True)\n",
    "\n",
    "all_random_seeds = {189369, 876944, 682421, 175326, 427438}\n",
    "\n",
    "# Per family columns\n",
    "family_order = ['instrument', 'note', 'brightness', 'loudness', 'boolean', 'exist', 'position', 'position_global', 'position_rel', 'count', 'count_compare', 'count_diff']\n",
    "reg = r'(_(?:with_rel_)?(?:no_rel_)?(?:no_or_)?(?:with_or_)?(?:with_.*_)?)test_acc'\n",
    "\n",
    "global_test_acc_cols = [c for c in experiments.columns if 'all' in c and 'train' not in c and 'val' not in c or c == 'test_acc']\n",
    "all_families_test_acc_cols = [c for c in experiments.columns if 'test_acc' in c and c != 'test_acc' and 'all' not in c]\n",
    "no_rel_family_test_acc_cols = sorted([c for c in all_families_test_acc_cols if 'no_rel_test_acc' in c], key=lambda x: family_order.index(re.sub(reg, '', x)))\n",
    "no_rel_with_filter_family_test_acc_cols = sorted([c for c in all_families_test_acc_cols if 'no_rel_with' in c], key=lambda x: family_order.index(re.sub(reg, '', x)))\n",
    "with_rel_family_test_acc_cols = sorted([c for c in all_families_test_acc_cols if 'with_rel' in c], key=lambda x: family_order.index(re.sub(reg, '', x)))\n",
    "no_or_family_test_acc_cols = sorted([c for c in all_families_test_acc_cols if 'no_or' in c], key=lambda x: family_order.index(re.sub(reg, '', x)))\n",
    "with_or_family_test_acc_cols = sorted([c for c in all_families_test_acc_cols if 'with_or' in c], key=lambda x: family_order.index(re.sub(reg, '', x)))\n",
    "family_test_acc_cols = set(all_families_test_acc_cols) - set(no_rel_family_test_acc_cols) - set(with_rel_family_test_acc_cols) - set(no_rel_with_filter_family_test_acc_cols) - set(no_or_family_test_acc_cols) - set(with_or_family_test_acc_cols)\n",
    "family_test_acc_cols = sorted(family_test_acc_cols, key=lambda x: family_order.index(re.sub(reg, '', x)))\n",
    "\n",
    "# Pretty printing\n",
    "format_dict, latex_format_dict = get_format_dicts()\n",
    "\n",
    "pd.set_option('display.max_colwidth', None)\n",
    "\n",
    "sorted(experiments.columns.values)\n",
    "\n"
   ]
  },
  {
   "cell_type": "code",
   "execution_count": null,
   "metadata": {},
   "outputs": [],
   "source": [
    "# Most recent Individual experiments\n",
    "\n",
    "cols = ['config', 'random_seed', 'test_acc', 'n_mels', 'nb_trainable_param', 'date', 'train_time', 'mean_epoch_time', 'nb_epoch_trained', 'gpu_name', 'device', 'note']\n",
    "exp = experiments.sort_values('date', ascending=False)\n",
    "exp[cols].style.format(format_dict)\n"
   ]
  },
  {
   "cell_type": "code",
   "execution_count": null,
   "metadata": {
    "scrolled": false
   },
   "outputs": [],
   "source": [
    "# Experiments grouped by mel\n",
    "\n",
    "filters = (experiments['date'] >= '2021-10-21')\n",
    "filters &= (experiments['n_mels'].notnull())\n",
    "\n",
    "grouped_df = show_table(df=experiments,\n",
    "           filters=filters,\n",
    "           groupby_columns = ['extractor_type', 'n_mels'],\n",
    "           acc_columns = ['test_acc', *family_test_acc_cols],\n",
    "           extra_columns = ['nb_trainable_param', 'gpu_name'],\n",
    "           attribute_by_color = {c: 'CMRmap' for c in family_test_acc_cols},\n",
    "           #hardcoded_cols= hardcoded_columns,\n",
    "           display_all=False,\n",
    "           show_count_col=False,\n",
    "           format_dict=latex_format_dict,\n",
    "           inplace_std=False,\n",
    "           #remove_outliers=remove_outliers,\n",
    "           #nb_to_keep=1,#nb_results_to_keep,\n",
    "           #all_seeds=all_random_seeds if show_missing_seeds else None\n",
    "          )"
   ]
  }
 ],
 "metadata": {
  "kernelspec": {
   "display_name": "film-aqa-torch-1.3",
   "language": "python",
   "name": "film-aqa-torch-1.3"
  },
  "language_info": {
   "codemirror_mode": {
    "name": "ipython",
    "version": 3
   },
   "file_extension": ".py",
   "mimetype": "text/x-python",
   "name": "python",
   "nbconvert_exporter": "python",
   "pygments_lexer": "ipython3",
   "version": "3.6.9"
  }
 },
 "nbformat": 4,
 "nbformat_minor": 2
}
