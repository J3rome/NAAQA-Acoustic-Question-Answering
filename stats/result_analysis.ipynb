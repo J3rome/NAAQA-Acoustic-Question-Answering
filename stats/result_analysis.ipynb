{
 "cells": [
  {
   "cell_type": "code",
   "execution_count": null,
   "metadata": {},
   "outputs": [],
   "source": [
    "# Magic functions\n",
    "%load_ext autoreload\n",
    "%autoreload 2\n",
    "%matplotlib notebook\n",
    "\n",
    "# Move up one folder to reach the repo root\n",
    "%cd .."
   ]
  },
  {
   "cell_type": "code",
   "execution_count": null,
   "metadata": {},
   "outputs": [],
   "source": [
    "# Paths, Imports & Configs\n",
    "from stats import helper\n",
    "import matplotlib.pyplot as plt\n",
    "root_data_path = \"data\"\n",
    "root_output_path = \"output/train_film\"\n",
    "\n",
    "experiment_name = \"v3_resnet_1k_5_inst_1024_win_50_overlap_resnet_4\"\n",
    "experiment_output_path = f\"{root_output_path}/{experiment_name}\"\n",
    "epoch_id = 25\n",
    "\n",
    "\n",
    "data_name = \"v3_resnet_1k_5_inst_1024_win_50_overlap\"\n",
    "data_path = f\"{root_data_path}/{data_name}\"        # FIXME : This won't work because of the suffix in the output\n",
    "\n",
    "# TODO : Get some hyperparameters\n"
   ]
  },
  {
   "cell_type": "code",
   "execution_count": null,
   "metadata": {},
   "outputs": [],
   "source": [
    "# Load data from files\n",
    "answer_to_family_map = helper.get_answer_to_family_map(f'{data_path}/attributes.json')\n",
    "answer_families = list(set(answer_to_family_map.values()))\n",
    "\n",
    "train_predictions = helper.load_experiment_predictions(experiment_output_path, epoch_id, set_type='train')\n",
    "val_predictions = helper.load_experiment_predictions(experiment_output_path, epoch_id, set_type='val')\n",
    "\n",
    "# Sort correct & Incorrect predictions (Distinction between correct/incorrect question family when incorrect prediction)\n",
    "train_predictions_sorted = helper.sort_correct_incorrect_predictions(train_predictions)\n",
    "val_predictions_sorted = helper.sort_correct_incorrect_predictions(val_predictions)"
   ]
  },
  {
   "cell_type": "markdown",
   "metadata": {},
   "source": [
    "## Analyse Correct/Incorrect per family"
   ]
  },
  {
   "cell_type": "code",
   "execution_count": null,
   "metadata": {},
   "outputs": [],
   "source": [
    "answer_families"
   ]
  },
  {
   "cell_type": "markdown",
   "metadata": {},
   "source": [
    "## Analyse confidence in predictions"
   ]
  },
  {
   "cell_type": "code",
   "execution_count": null,
   "metadata": {},
   "outputs": [],
   "source": [
    "helper.plot_confidence(train_predictions_sorted, val_predictions_sorted, norm_hist=False)"
   ]
  },
  {
   "cell_type": "code",
   "execution_count": null,
   "metadata": {
    "scrolled": false
   },
   "outputs": [],
   "source": [
    "for family in answer_families:\n",
    "    helper.plot_confidence(train_predictions_sorted, val_predictions_sorted, question_family=family, norm_hist=True)"
   ]
  },
  {
   "cell_type": "code",
   "execution_count": null,
   "metadata": {},
   "outputs": [],
   "source": []
  }
 ],
 "metadata": {
  "kernelspec": {
   "display_name": "Film-Aqa",
   "language": "python",
   "name": "film-aqa"
  },
  "language_info": {
   "codemirror_mode": {
    "name": "ipython",
    "version": 3
   },
   "file_extension": ".py",
   "mimetype": "text/x-python",
   "name": "python",
   "nbconvert_exporter": "python",
   "pygments_lexer": "ipython3",
   "version": "3.6.8"
  }
 },
 "nbformat": 4,
 "nbformat_minor": 2
}
