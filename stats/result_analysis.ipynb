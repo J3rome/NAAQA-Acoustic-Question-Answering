{
 "cells": [
  {
   "cell_type": "code",
   "execution_count": null,
   "metadata": {},
   "outputs": [],
   "source": [
    "# Magic functions -- Run Once\n",
    "%load_ext autoreload\n",
    "%autoreload 2\n",
    "%matplotlib notebook\n",
    "\n",
    "from IPython.core.display import display, HTML\n",
    "html_str = \"<style>.container { width:99% !important; }\\n\"\n",
    "html_str += \"div.cell.selected { border-left-width: 1px !important; }\\n\"\n",
    "html_str += \"div.output_scroll { resize: vertical !important }</style>\"\n",
    "display(HTML(html_str))\n",
    "\n",
    "# Move up one folder to reach the repo root\n",
    "%cd .."
   ]
  },
  {
   "cell_type": "code",
   "execution_count": null,
   "metadata": {},
   "outputs": [],
   "source": [
    "# Paths, Imports & Configs\n",
    "from stats import helper\n",
    "import matplotlib.pyplot as plt\n",
    "root_data_path = \"data\"\n",
    "root_output_path = \"output/train_film\"\n",
    "\n",
    "normalize_histograms = False\n",
    "normalize_confusion_matrices = False\n",
    "\n",
    "#experiment_name = \"v3_noReverbnoBackground_5k_40_inst_1024_win_50_overlap_BEAST\"\n",
    "experiment_name = \"v3_fixed_5k_40_inst_1024_win_50_overlap_hpc-puget-necotis\"\n",
    "experiment_date = \"2019-11-07_01h43\"\n",
    "#experiment_date = \"latest\"\n",
    "experiment_output_path = f\"{root_output_path}/{experiment_name}/{experiment_date}\"\n",
    "epoch_id = \"best\"\n",
    "\n",
    "data_name = \"v3_fixed_5k_40_inst_1024_win_50_overlap\"\n",
    "data_path = f\"{root_data_path}/{data_name}\"\n"
   ]
  },
  {
   "cell_type": "code",
   "execution_count": null,
   "metadata": {},
   "outputs": [],
   "source": [
    "# Load data from files\n",
    "answer_to_family_map = helper.get_answer_to_family_map(f'{data_path}/attributes.json', to_lowercase=True, reduced_text=True)\n",
    "answer_families = list(set(answer_to_family_map.values()))\n",
    "\n",
    "train_processed_predictions = helper.load_experiment_predictions(experiment_output_path, epoch_id, set_type='train', reduced_text=True)\n",
    "val_processed_predictions = helper.load_experiment_predictions(experiment_output_path, epoch_id, set_type='val', reduced_text=True)\n",
    "\n",
    "# Sort correct & Incorrect predictions (Distinction between correct/incorrect question family when incorrect prediction)\n",
    "train_processed_predictions_sorted = helper.sort_correct_incorrect_predictions(train_processed_predictions)\n",
    "val_processed_predictions_sorted = helper.sort_correct_incorrect_predictions(val_processed_predictions)\n",
    "\n",
    "train_predictions, train_ground_truths = helper.separate_preds_ground_truth(train_processed_predictions, attribute=\"ground_truth_answer_family\")\n",
    "val_predictions, val_ground_truths = helper.separate_preds_ground_truth(val_processed_predictions, attribute=\"ground_truth_answer_family\")"
   ]
  },
  {
   "cell_type": "markdown",
   "metadata": {},
   "source": [
    "## Confusion Matrices"
   ]
  },
  {
   "cell_type": "code",
   "execution_count": null,
   "metadata": {
    "scrolled": true
   },
   "outputs": [],
   "source": [
    "train_predictions_families = [answer_to_family_map[p] for p in train_predictions['all']]\n",
    "train_ground_truths_families = [answer_to_family_map[p] for p in train_ground_truths['all']]\n",
    "val_predictions_families = [answer_to_family_map[p] for p in val_predictions['all']]\n",
    "val_ground_truths_families = [answer_to_family_map[p] for p in val_ground_truths['all']]\n",
    "\n",
    "helper.plot_confusion_matrix(train_predictions_families, train_ground_truths_families, title=\"Train confusion matrix by answer Families\", normalize=normalize_confusion_matrices)\n",
    "fig, ax = helper.plot_confusion_matrix(val_predictions_families, val_ground_truths_families, title=\"Val confusion matrix by answer Families\", normalize=normalize_confusion_matrices)"
   ]
  },
  {
   "cell_type": "code",
   "execution_count": null,
   "metadata": {
    "scrolled": true
   },
   "outputs": [],
   "source": [
    "# Might need to big_fig.tight_layout() after resizing the plot\n",
    "big_fig_train, ax = helper.plot_confusion_matrix(train_predictions['all'], train_ground_truths['all'], title=\"Train confusion matrix\", normalize=normalize_confusion_matrices)\n",
    "big_fig_val, ax = helper.plot_confusion_matrix(val_predictions['all'], val_ground_truths['all'], title=\"Val confusion matrix\", normalize=normalize_confusion_matrices)"
   ]
  },
  {
   "cell_type": "code",
   "execution_count": null,
   "metadata": {
    "scrolled": true
   },
   "outputs": [],
   "source": [
    "for family in train_predictions.keys():\n",
    "    if family == 'all':\n",
    "        # All answer already plotted to make sure its the first\n",
    "        continue\n",
    "    \n",
    "    fig, ax = helper.plot_confusion_matrix(train_predictions[family], train_ground_truths[family], title=f\"[{family.capitalize()}]Train confusion matrix\", normalize=normalize_confusion_matrices)\n"
   ]
  },
  {
   "cell_type": "code",
   "execution_count": null,
   "metadata": {
    "scrolled": true
   },
   "outputs": [],
   "source": [
    "for family in val_predictions.keys():\n",
    "    if family == 'all':\n",
    "        # All answer already plotted to make sure its the first\n",
    "        continue\n",
    "    \n",
    "    fig, ax = helper.plot_confusion_matrix(val_predictions[family], val_ground_truths[family], title=f\"[{family.capitalize()}]Val confusion matrix\", normalize=normalize_confusion_matrices)\n"
   ]
  },
  {
   "cell_type": "markdown",
   "metadata": {},
   "source": [
    "## Analyse Correct/Incorrect predictions per family"
   ]
  },
  {
   "cell_type": "code",
   "execution_count": null,
   "metadata": {
    "scrolled": true
   },
   "outputs": [],
   "source": [
    "helper.plot_predictions_distribution_per_question_family(train_processed_predictions_sorted, val_processed_predictions_sorted, norm_hist=normalize_histograms, all_x_labels=answer_families)"
   ]
  },
  {
   "cell_type": "markdown",
   "metadata": {},
   "source": [
    "## Analyse confidence in predictions"
   ]
  },
  {
   "cell_type": "code",
   "execution_count": null,
   "metadata": {
    "scrolled": true
   },
   "outputs": [],
   "source": [
    "helper.plot_predictions_confidence(train_processed_predictions_sorted, val_processed_predictions_sorted, norm_hist=normalize_histograms)"
   ]
  },
  {
   "cell_type": "code",
   "execution_count": null,
   "metadata": {
    "scrolled": true
   },
   "outputs": [],
   "source": [
    "for family in answer_families:\n",
    "    helper.plot_predictions_confidence(train_processed_predictions_sorted, val_processed_predictions_sorted, question_family=family, norm_hist=normalize_histograms)"
   ]
  }
 ],
 "metadata": {
  "kernelspec": {
   "display_name": "film-aqa-torch-1.3",
   "language": "python",
   "name": "film-aqa-torch-1.3"
  },
  "language_info": {
   "codemirror_mode": {
    "name": "ipython",
    "version": 3
   },
   "file_extension": ".py",
   "mimetype": "text/x-python",
   "name": "python",
   "nbconvert_exporter": "python",
   "pygments_lexer": "ipython3",
   "version": "3.6.8"
  }
 },
 "nbformat": 4,
 "nbformat_minor": 2
}
