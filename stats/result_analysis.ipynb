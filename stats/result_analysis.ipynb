{
 "cells": [
  {
   "cell_type": "code",
   "execution_count": null,
   "metadata": {},
   "outputs": [],
   "source": [
    "# Magic functions\n",
    "%load_ext autoreload\n",
    "%autoreload 2\n",
    "%matplotlib notebook\n",
    "\n",
    "# Move up one folder to reach the repo root\n",
    "%cd .."
   ]
  },
  {
   "cell_type": "code",
   "execution_count": null,
   "metadata": {},
   "outputs": [],
   "source": [
    "# Paths, Imports & Configs\n",
    "from stats import helper\n",
    "import matplotlib.pyplot as plt\n",
    "root_data_path = \"data\"\n",
    "root_output_path = \"output/train_film\"\n",
    "\n",
    "normalize_histograms = True\n",
    "\n",
    "experiment_name = \"v3_fixed_1k_10_inst_1024_win_50_overlap_BEAST\"\n",
    "experiment_date = \"2019-10-30_01h26\"\n",
    "experiment_output_path = f\"{root_output_path}/{experiment_name}/{experiment_date}\"\n",
    "epoch_id = \"best\"\n",
    "\n",
    "\n",
    "data_name = \"v3_resnet_1k_5_inst_1024_win_50_overlap\"\n",
    "data_path = f\"{root_data_path}/{data_name}\"\n",
    "\n",
    "# TODO : Get some hyperparameters\n"
   ]
  },
  {
   "cell_type": "code",
   "execution_count": null,
   "metadata": {},
   "outputs": [],
   "source": [
    "# Load data from files\n",
    "answer_to_family_map = helper.get_answer_to_family_map(f'{data_path}/attributes.json', to_lowercase=True, reduced_text=True)\n",
    "answer_families = list(set(answer_to_family_map.values()))\n",
    "\n",
    "train_processed_predictions = helper.load_experiment_predictions(experiment_output_path, epoch_id, set_type='train', reduced_text=True)\n",
    "val_processed_predictions = helper.load_experiment_predictions(experiment_output_path, epoch_id, set_type='val', reduced_text=True)\n",
    "\n",
    "# Sort correct & Incorrect predictions (Distinction between correct/incorrect question family when incorrect prediction)\n",
    "train_processed_predictions_sorted = helper.sort_correct_incorrect_predictions(train_processed_predictions)\n",
    "val_processed_predictions_sorted = helper.sort_correct_incorrect_predictions(val_processed_predictions)\n",
    "\n",
    "train_predictions, train_ground_truths = helper.separate_preds_ground_truth(train_processed_predictions, attribute='prediction_answer_family')\n",
    "\n",
    "train_predictions_families = [answer_to_family_map[p] for p in train_predictions['all']]\n",
    "train_ground_truths_families = [answer_to_family_map[p] for p in train_ground_truths['all']]"
   ]
  },
  {
   "cell_type": "markdown",
   "metadata": {},
   "source": [
    "## Confusion Matrices"
   ]
  },
  {
   "cell_type": "code",
   "execution_count": null,
   "metadata": {},
   "outputs": [],
   "source": [
    "fig, ax = helper.plot_confusion_matrix(train_predictions_families, train_ground_truths_families, title=\"Train confusion matrix by answer Families\", normalize=False)"
   ]
  },
  {
   "cell_type": "code",
   "execution_count": null,
   "metadata": {
    "scrolled": false
   },
   "outputs": [],
   "source": [
    "figs = []\n",
    "# Might need to figs[0].tight_layout() after resizing the plot\n",
    "fig, ax = helper.plot_confusion_matrix(train_predictions['all'], train_ground_truths['all'], title=\"Train confusion matrix\", normalize=False)\n",
    "figs.append(fig)\n",
    "\n",
    "for family in train_predictions.keys():\n",
    "    if family == 'all':\n",
    "        # All answer already plotted to make sure its the first\n",
    "        continue\n",
    "    \n",
    "    fig, ax = helper.plot_confusion_matrix(train_predictions[family], train_ground_truths[family], title=f\"[{family.capitalize()}]Train confusion matrix\", normalize=False)\n",
    "    figs.append(fig)\n"
   ]
  },
  {
   "cell_type": "code",
   "execution_count": null,
   "metadata": {},
   "outputs": [],
   "source": []
  },
  {
   "cell_type": "markdown",
   "metadata": {},
   "source": [
    "## Analyse Correct/Incorrect predictions per family"
   ]
  },
  {
   "cell_type": "code",
   "execution_count": null,
   "metadata": {
    "scrolled": false
   },
   "outputs": [],
   "source": [
    "helper.plot_distribution_per_question_family(train_processed_predictions_sorted, val_processed_predictions_sorted, norm_hist=normalize_histograms, all_x_labels=answer_families)"
   ]
  },
  {
   "cell_type": "markdown",
   "metadata": {},
   "source": [
    "## Analyse confidence in predictions"
   ]
  },
  {
   "cell_type": "code",
   "execution_count": null,
   "metadata": {
    "scrolled": false
   },
   "outputs": [],
   "source": [
    "helper.plot_predictions_confidence(train_processed_predictions_sorted, val_processed_predictions_sorted, norm_hist=normalize_histograms)"
   ]
  },
  {
   "cell_type": "code",
   "execution_count": null,
   "metadata": {
    "scrolled": false
   },
   "outputs": [],
   "source": [
    "for family in answer_families:\n",
    "    helper.plot_predictions_confidence(train_processed_predictions_sorted, val_processed_predictions_sorted, question_family=family, norm_hist=normalize_histograms)"
   ]
  }
 ],
 "metadata": {
  "kernelspec": {
   "display_name": "Film-Aqa",
   "language": "python",
   "name": "film-aqa"
  },
  "language_info": {
   "codemirror_mode": {
    "name": "ipython",
    "version": 3
   },
   "file_extension": ".py",
   "mimetype": "text/x-python",
   "name": "python",
   "nbconvert_exporter": "python",
   "pygments_lexer": "ipython3",
   "version": "3.6.8"
  }
 },
 "nbformat": 4,
 "nbformat_minor": 2
}
