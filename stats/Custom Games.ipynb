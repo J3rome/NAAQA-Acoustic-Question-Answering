{
 "cells": [
  {
   "cell_type": "code",
   "execution_count": null,
   "metadata": {},
   "outputs": [],
   "source": [
    "# Magic functions -- Run Once\n",
    "%load_ext autoreload\n",
    "%autoreload 2\n",
    "%matplotlib notebook\n",
    "\n",
    "import matplotlib.pyplot as plt\n",
    "# Set default figure size\n",
    "plt.rcParams[\"figure.figsize\"] = (12, 5)\n",
    "\n",
    "import warnings\n",
    "# Ignore all warnings (This might not be a good idea)\n",
    "warnings.filterwarnings('ignore')\n",
    "\n",
    "# Move up one folder to reach the repo root\n",
    "%cd ..\n",
    "\n",
    "from utils.notebook.generic import full_width_notebook\n",
    "# Set notebook to 100% width\n",
    "full_width_notebook()"
   ]
  },
  {
   "cell_type": "code",
   "execution_count": null,
   "metadata": {},
   "outputs": [],
   "source": [
    "from main import parse_args_string, prepare_for_task\n",
    "from utils.notebook.generic import notebook_input_prompt\n",
    "from utils.visualization import get_tagged_scene, get_tagged_scene_table_legend\n",
    "from runner import custom_question_inference\n",
    "\n",
    "data_version_name = \"CLEAR_5k_5_inst_1024_win_50_overlap\"\n",
    "model_restore_path = \"output/training/CLEAR_10k_20_inst_1024_win_50_overlap_reduction_original_rnn_256_40_epoch_stop_at_0.85_876944/2020-04-26_04h18\"\n",
    "#model_restore_path = \"output/training/v3_fixed_5k_40_inst_1024_win_50_overlap_hpc-puget-necotis/latest\"\n",
    "\n",
    "data_root_path = \"data\"\n",
    "config_path = \"config/reduction/original_rnn_256.json\"\n",
    "#config_path = f\"{model_restore_path}/config_raw_h5_input.json\"\n",
    "#config_path = \"output/training/v3_fixed_5k_40_inst_1024_win_50_overlap_hpc-puget-necotis/latest/config_conv_input.json\"\n",
    "random_seed = 876944\n",
    "image_height = 224\n",
    "image_width = 224\n",
    "\n",
    "# TODO : Retrieve params from {model_restore_path}\n",
    "# TODO : What happen when processed with resnet ?\n",
    "\n",
    "use_cpu = True\n",
    "\n",
    "# Model weight restore\n",
    "model_weight_path = f\"{model_restore_path}/best/model.pt.tar\"\n",
    "model_dict_file_path = f\"{model_restore_path}/dict.json\"\n",
    "\n",
    "# FIXME : Clear mean & std might be wrong (It is written in the config file)\n",
    "\n",
    "arguments = (\n",
    "    f\"--notebook_model_inference --version_name {data_version_name} --config_path {config_path} --batch_size 4 \"\n",
    "    f\"--random_seed {random_seed} --dict_folder questions \"\n",
    "    #f\"--raw_img_resize_val {image_size} --no_feature_extractor --normalize_with_clear_stats \"\n",
    "    f\"--film_model_weight_path {model_weight_path} --dict_file_path {model_dict_file_path} {'--use_cpu' if use_cpu else ''}\"\n",
    ")\n",
    "\n",
    "#  \n",
    "            \n",
    "args = parse_args_string(arguments)\n",
    "task_and_more, dataloaders, model_and_more = prepare_for_task(args)\n",
    "print(\"Preparation done\")\n",
    "task, args, flags, paths, device = task_and_more\n",
    "film_model_config, film_model, optimizer, loss_criterion, scheduler, tensorboard = model_and_more\n",
    "datasets = {set_type:dloader.dataset for set_type, dloader in dataloaders.items()}\n",
    "\n",
    "# Retrieve clear stats\n",
    "import json\n",
    "with open(f\"{data_root_path}/{data_version_name}/clear_stats.json\", 'r') as f:\n",
    "    clear_stats = json.load(f)\n",
    "\n",
    "# Print model summary\n",
    "with open(f\"{model_restore_path}/model_summary.txt\", 'r') as f:\n",
    "    print(f.read())\n"
   ]
  },
  {
   "cell_type": "code",
   "execution_count": null,
   "metadata": {},
   "outputs": [],
   "source": [
    "# Retrieve random game\n",
    "set_type = 'train'\n",
    "random_game = datasets[set_type].get_random_game(return_game=True)\n",
    "scene_id = random_game['scene_id']"
   ]
  },
  {
   "cell_type": "code",
   "execution_count": null,
   "metadata": {},
   "outputs": [],
   "source": [
    "# Show scene & Example questions\n",
    "from utils.notebook.inference import show_game_notebook_input\n",
    "\n",
    "custom_question, custom_questions, legend = show_game_notebook_input(dataloaders[set_type], random_game, clear_stats,\n",
    "                                                                     remove_image_padding=True)"
   ]
  },
  {
   "cell_type": "code",
   "execution_count": null,
   "metadata": {
    "scrolled": false
   },
   "outputs": [],
   "source": [
    "from utils.notebook.inference import do_custom_question_inference, show_gradcam\n",
    "\n",
    "# MODIFY THIS TO GET GRADCAM FOR DIFFERENT GUESSES\n",
    "gradcam_guess_id = 0\n",
    "\n",
    "custom_game, top_preds = do_custom_question_inference(device, film_model, dataloaders[set_type], custom_question, scene_id, nb_top_pred=5)\n",
    "display(legend)"
   ]
  },
  {
   "cell_type": "code",
   "execution_count": null,
   "metadata": {
    "scrolled": false
   },
   "outputs": [],
   "source": [
    "heatmaps = show_gradcam(device, film_model, dataloaders[set_type], custom_game, scene_id, guess_id=gradcam_guess_id, \n",
    "                        top_preds=top_preds, clear_stats=clear_stats, apply_relu=False)"
   ]
  },
  {
   "cell_type": "code",
   "execution_count": null,
   "metadata": {},
   "outputs": [],
   "source": [
    "# Activations\n"
   ]
  }
 ],
 "metadata": {
  "kernelspec": {
   "display_name": "film-aqa-torch-1.3",
   "language": "python",
   "name": "film-aqa-torch-1.3"
  },
  "language_info": {
   "codemirror_mode": {
    "name": "ipython",
    "version": 3
   },
   "file_extension": ".py",
   "mimetype": "text/x-python",
   "name": "python",
   "nbconvert_exporter": "python",
   "pygments_lexer": "ipython3",
   "version": "3.6.9"
  }
 },
 "nbformat": 4,
 "nbformat_minor": 2
}
