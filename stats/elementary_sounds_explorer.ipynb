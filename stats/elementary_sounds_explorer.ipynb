{
 "cells": [
  {
   "cell_type": "code",
   "execution_count": null,
   "metadata": {},
   "outputs": [],
   "source": [
    "# Magic functions -- Run Once\n",
    "%load_ext autoreload\n",
    "%autoreload 2\n",
    "%matplotlib notebook\n",
    "\n",
    "# Move up one folder to reach the repo root\n",
    "%cd ..\n",
    "\n",
    "from utils.notebook.generic import full_width_notebook\n",
    "full_width_notebook()\n",
    "\n",
    "from IPython.core.display import display, Markdown, HTML\n",
    "\n",
    "# Remove huge horizontal bar in figures\n",
    "display(HTML(\"<style>.ui-dialog-titlebar{display:none;}</style>\"))"
   ]
  },
  {
   "cell_type": "code",
   "execution_count": null,
   "metadata": {},
   "outputs": [],
   "source": [
    "!/home/j3romee/dev/venv/aqa-dataset-gen/bin/python /home/j3romee/dev/maitrise/aqa-dataset-gen/scripts/good_sounds_elementary_sounds_picker_cogent.py --good_sounds_folder /home/j3romee/dev/maitrise/good-sounds --output_path /home/j3romee/dev/maitrise/aqa-dataset-gen/test_elementary_sounds_cogent"
   ]
  },
  {
   "cell_type": "code",
   "execution_count": null,
   "metadata": {
    "scrolled": false
   },
   "outputs": [],
   "source": [
    "import json\n",
    "import pandas as pd\n",
    "from utils.elementary_sounds import Elementary_Sounds\n",
    "\n",
    "elementary_sounds_folder = \"../aqa-dataset-gen/test_elementary_sounds_cogent\"\n",
    "#elementary_sounds_folder = \"../aqa-dataset-gen/elementary_sounds\"\n",
    "\n",
    "columns = ['instrument', 'note', 'octave', 'duration', 'loudness', 'raw_loudness', 'brightness', 'raw_brightness']\n",
    "\n",
    "elementary_sounds = Elementary_Sounds(elementary_sounds_folder, 'elementary_sounds.json', save_raw_values=True)\n",
    "full_sounds_df = pd.DataFrame([elementary_sounds.get(i) for i in range(elementary_sounds.nb_sounds)], columns=elementary_sounds.get(0).keys())\n",
    "\n",
    "sounds_df = full_sounds_df[columns].sort_values(['instrument', 'octave', 'note'])"
   ]
  },
  {
   "cell_type": "code",
   "execution_count": null,
   "metadata": {
    "scrolled": true
   },
   "outputs": [],
   "source": [
    "brightness_threshold = [0.42, 0.47]\n",
    "loudness_threshold = -27\n",
    "#loudness_threshold = -29\n",
    "loudness_threshold = [0.57, 0.62]\n",
    "\n",
    "sounds_df.sort_values(['instrument', 'octave', 'note']).style.format({\n",
    "    'duration': lambda x: f'{(x/1000):.2f} s'\n",
    "})"
   ]
  },
  {
   "cell_type": "code",
   "execution_count": null,
   "metadata": {
    "scrolled": false
   },
   "outputs": [],
   "source": [
    "import matplotlib.pyplot as plt\n",
    "def grouped_df_histogram(df, group_by, col_to_plot, threshold=None, normalize=False):\n",
    "    \n",
    "    max_value = df[col_to_plot].max()\n",
    "    min_value = df[col_to_plot].min()\n",
    "    \n",
    "    grouped = df.groupby(group_by)\n",
    "    \n",
    "    if threshold and type(threshold) != list:\n",
    "        threshold = [threshold]\n",
    "\n",
    "    min_x_lim = 99999\n",
    "    max_x_lim = -99999\n",
    "    axs = []\n",
    "    for group_name, group in grouped:\n",
    "        colors = iter(plt.rcParams['axes.prop_cycle'].by_key()['color'][1:])\n",
    "        group_to_plot = group[[col_to_plot]]\n",
    "        \n",
    "        if normalize:\n",
    "            #group_to_plot = (group_to_plot - group_to_plot.min()) / (group_to_plot.max()-group_to_plot.min())\n",
    "            group_to_plot = (group_to_plot - min_value) / (max_value-min_value)\n",
    "        \n",
    "        ax = group_to_plot.hist(grid=False, bins=100)[0][0]\n",
    "        ax.set_title(f\"{group_by} - {str(group_name).capitalize()} -- {col_to_plot}\")\n",
    "        axs.append(ax)\n",
    "\n",
    "        bottom_lim, up_lim = ax.get_xlim()\n",
    "\n",
    "        if bottom_lim < min_x_lim:\n",
    "            min_x_lim = bottom_lim\n",
    "        if up_lim > max_x_lim:\n",
    "            max_x_lim = up_lim\n",
    "\n",
    "        if threshold:\n",
    "            for thresh in threshold:\n",
    "                ax.axvline(x=thresh, color=next(colors))\n",
    "                \n",
    "            if len(threshold) == 1:\n",
    "                #under_thresh = group_to_plot[group_to_plot['raw_loudness'] < threshold[0]].count()\n",
    "                under_thresh = group_to_plot[group_to_plot[col_to_plot] < threshold[0]].count()\n",
    "                over_thresh = len(group_to_plot) - under_thresh\n",
    "            elif len(threshold) == 2:\n",
    "                #under_thresh = group_to_plot[group_to_plot['raw_loudness'] < threshold[0]].count()\n",
    "                #over_thresh = group_to_plot[group_to_plot['raw_loudness'] > threshold[1]].count()\n",
    "                under_thresh = group_to_plot[group_to_plot[col_to_plot] < threshold[0]].count()\n",
    "                over_thresh = group_to_plot[group_to_plot[col_to_plot] > threshold[1]].count()\n",
    "            else:\n",
    "                continue\n",
    "            \n",
    "            display(Markdown(f\"### {under_thresh.values[0]} / {over_thresh.values[0]}\"))\n",
    "\n",
    "    for ax in axs:\n",
    "        ax.set_xlim((min_x_lim, max_x_lim))\n",
    "        \n",
    "    return axs\n",
    "\n",
    "def group_df_discrete_hist(df, group_by, col_to_plot, normalize=False):\n",
    "    ax = sounds_df.groupby(group_by)[col_to_plot].value_counts(normalize=False).unstack().plot.bar()\n",
    "    ax.set_title(f'{col_to_plot.capitalize()} Count by {group_by}')\n",
    "    \n",
    "    return ax\n",
    "\n",
    "def single_col_df_hist(df, col_to_plot, normalize=False):\n",
    "    plt.figure()\n",
    "    ax = df[col_to_plot].value_counts(normalize=normalize).plot.bar()\n",
    "    ax.set_title(f'{col_to_plot.capitalize()} Distribution')"
   ]
  },
  {
   "cell_type": "code",
   "execution_count": null,
   "metadata": {
    "scrolled": false
   },
   "outputs": [],
   "source": [
    "empty_lines = HTML(\"<br><br><br><br>\")\n",
    "\n",
    "display(Markdown(\"# Attributes distribution\"))\n",
    "single_col_df_hist(sounds_df, 'loudness', normalize=False)\n",
    "single_col_df_hist(sounds_df, 'brightness', normalize=False)\n",
    "#single_col_df_hist(sounds_df, 'instrument', normalize=False)\n",
    "#single_col_df_hist(sounds_df, 'note', normalize=False)\n",
    "#single_col_df_hist(sounds_df, 'octave', normalize=False)\n",
    "\n",
    "#sounds_df[['brightness','loudness']].value_counts(normalize=True).unstack().plot.bar()\n",
    "\n",
    "display(empty_lines, Markdown(\"# Brightness(label) by Instrument\"))\n",
    "group_df_discrete_hist(sounds_df, 'instrument', 'brightness', normalize=False)\n",
    "\n",
    "display(empty_lines, Markdown(\"# Loudness(label) by Instrument\"))\n",
    "group_df_discrete_hist(sounds_df, 'instrument', 'loudness', normalize=False)\n",
    "\n",
    "#display(empty_lines, Markdown(\"# Octave by Instrument\"))\n",
    "#group_df_discrete_hist(sounds_df, 'instrument', 'octave', normalize=False)\n",
    "\n",
    "#display(empty_lines, Markdown(\"# Loudness(label) by Note\"))\n",
    "#group_df_discrete_hist(sounds_df, 'note', 'loudness', normalize=False)\n",
    "\n",
    "#display(empty_lines, Markdown(\"# Brightness(label) by Note\"))\n",
    "#group_df_discrete_hist(sounds_df, 'note', 'brightness', normalize=False)\n",
    "\n",
    "#display(empty_lines, Markdown(\"# Duration by Instrument\"))\n",
    "#grouped_df_histogram(full_sounds_df, 'instrument', 'duration', normalize=False)\n",
    "\n",
    "do_norm = False\n",
    "do_norm = True\n",
    "\n",
    "display(empty_lines, Markdown(\"# Raw Loudness by Instrument\"))\n",
    "grouped_df_histogram(full_sounds_df, 'instrument', 'raw_loudness', threshold=loudness_threshold, normalize=do_norm)\n",
    "\n",
    "display(empty_lines, Markdown(\"# Raw Brightness normalized by Instrument\"))\n",
    "grouped_df_histogram(full_sounds_df, 'instrument', 'raw_brightness', threshold=brightness_threshold, normalize=True)\n",
    "\n",
    "#display(empty_lines, Markdown(\"# Raw Brightness normalized by Note\"))\n",
    "#grouped_df_histogram(full_sounds_df, 'note', 'raw_brightness', threshold=brightness_threshold, normalize=True)\n",
    "\n",
    "#display(empty_lines, Markdown(\"# Raw Loudness by Note\"))\n",
    "#grouped_df_histogram(full_sounds_df, 'note', 'raw_loudness', threshold=loudness_threshold, normalize=False)\n",
    "\n",
    "#display(empty_lines, Markdown(\"# Raw Loudness by Brightness (Label)\"))\n",
    "#grouped_df_histogram(full_sounds_df, 'brightness', 'raw_loudness', threshold=loudness_threshold)\n",
    "\n",
    "#display(empty_lines, Markdown(\"# Raw Brightness normalized by Loudness (Label)\"))\n",
    "#grouped_df_histogram(full_sounds_df, 'loudness', 'raw_brightness', threshold=brightness_threshold, normalize=True)\n",
    "\n",
    "#display(empty_lines, Markdown(\"# Raw Loudness by Octave\"))\n",
    "#grouped_df_histogram(full_sounds_df, 'octave', 'raw_loudness', threshold=loudness_threshold)\n",
    "\n",
    "#display(empty_lines, Markdown(\"# Raw Brightness normalized by Octave\"))\n",
    "#grouped_df_histogram(full_sounds_df, 'octave', 'raw_brightness', threshold=loudness_threshold, normalize=True)\n",
    "\n",
    "#display(empty_lines, Markdown(\"# Loudness(label) by Brightnes (label)\"))\n",
    "#group_df_discrete_hist(sounds_df, 'brightness', 'loudness', normalize=False)\n",
    "\n",
    "#display(empty_lines, Markdown(\"# Loudness(label) by Octave\"))\n",
    "#group_df_discrete_hist(sounds_df, 'octave', 'loudness', normalize=False)\n",
    "\n",
    "#display(empty_lines, Markdown(\"# Brightness(label) by Octave\"))\n",
    "#group_df_discrete_hist(sounds_df, 'octave', 'brightness', normalize=False)"
   ]
  },
  {
   "cell_type": "code",
   "execution_count": null,
   "metadata": {},
   "outputs": [],
   "source": [
    "print(elementary_sounds.min_loudness, elementary_sounds.max_loudness)"
   ]
  },
  {
   "cell_type": "code",
   "execution_count": null,
   "metadata": {},
   "outputs": [],
   "source": [
    "sounds_df.groupby(['instrument'])['loudness'].value_counts(normalize=False).unstack()"
   ]
  },
  {
   "cell_type": "code",
   "execution_count": null,
   "metadata": {},
   "outputs": [],
   "source": [
    "elementary_sounds.definition[0]"
   ]
  },
  {
   "cell_type": "code",
   "execution_count": null,
   "metadata": {},
   "outputs": [],
   "source": [
    "import json\n",
    "\n",
    "with open(\"/home/j3romee/dev/maitrise/aqa-dataset-gen/new\", 'w') as f:\n",
    "    json.dump(elementary_sounds.definition, f)"
   ]
  }
 ],
 "metadata": {
  "kernelspec": {
   "display_name": "aqa-dataset-gen",
   "language": "python",
   "name": "aqa-dataset-gen"
  },
  "language_info": {
   "codemirror_mode": {
    "name": "ipython",
    "version": 3
   },
   "file_extension": ".py",
   "mimetype": "text/x-python",
   "name": "python",
   "nbconvert_exporter": "python",
   "pygments_lexer": "ipython3",
   "version": "3.6.9"
  }
 },
 "nbformat": 4,
 "nbformat_minor": 2
}
